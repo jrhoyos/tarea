{
  "nbformat": 4,
  "nbformat_minor": 0,
  "metadata": {
    "colab": {
      "provenance": []
    },
    "kernelspec": {
      "name": "python3",
      "display_name": "Python 3"
    },
    "language_info": {
      "name": "python"
    }
  },
  "cells": [
    {
      "cell_type": "markdown",
      "source": [
        "![logo](https://raw.githubusercontent.com/jrhoyos/tarea/main/perfil_hacker.png) \n",
        "# Aplicación de notebooks a la asignatura de Informática Forense\n",
        "Ejecuta la siguiente celda para mostrar tu progreso"
      ],
      "metadata": {
        "id": "v6tUTS0sK_vX"
      }
    },
    {
      "cell_type": "code",
      "source": [
        "#@title Progreso actual \n",
        "from IPython.display import display\n",
        "import ipywidgets as widgets\n",
        "x=1\n",
        "progreso=widgets.IntProgress(\n",
        "    value=x,\n",
        "    min=0,\n",
        "    max=3,\n",
        "    description='Tu progreso:',\n",
        "    bar_style='', # 'success', 'info', 'warning', 'danger' or ''\n",
        "    style={'bar_color': 'maroon'},\n",
        "    orientation='horizontal'\n",
        ")\n",
        "\n",
        "if progreso.value==3:\n",
        "  print(\"logrado\")\n",
        "else: print(\"progresando...\")\n",
        "display(progreso)\n",
        "def aumenta_progreso(valor): \n",
        "  progreso.value=valor\n",
        "  if progreso.value==3:\n",
        "    progreso.description='¡¡LOGRADO!!'\n",
        "    progreso.style={'bar_color': 'green'}"
      ],
      "metadata": {
        "cellView": "form",
        "id": "kS0d7aK2LBkN"
      },
      "execution_count": null,
      "outputs": []
    },
    {
      "cell_type": "markdown",
      "source": [
        "# Primera pregunta: introduce tu nombre\n",
        "Ejecuta la siguiente celda para responder la pregunta"
      ],
      "metadata": {
        "id": "54VzjonGLLvp"
      }
    },
    {
      "cell_type": "code",
      "source": [
        "#@title\n",
        "nombre = input('Introduce tu nombre:')\n",
        "if nombre!=\"\" :\n",
        " aumenta_progreso(progreso.value+1)\n",
        "else : print (\"INTENTALO DE NUEVO\")"
      ],
      "metadata": {
        "cellView": "form",
        "id": "zKQ1PFxOLOzn"
      },
      "execution_count": null,
      "outputs": []
    },
    {
      "cell_type": "markdown",
      "source": [
        "# Segunda pregunta: ¿Cuánto metros tiene el lado de un cuadrado de 4 m<sup>2</sup>\n",
        "Ejecuta la siguiente celda para responder la pregunta\n"
      ],
      "metadata": {
        "id": "iRJ_ZpxFLTs_"
      }
    },
    {
      "cell_type": "code",
      "source": [
        "#@title\n",
        "lado = input('Introduce el valor del lado:')\n",
        "if lado==\"\": print (\"INTENTALO DE NUEVO\")\n",
        "else:\n",
        "  lado=int (lado)\n",
        "  if lado*lado==4 :\n",
        "    aumenta_progreso(progreso.value+1)\n",
        "    print(\"correcto!\")\n",
        "  else : print (\"INTENTALO DE NUEVO\")\n"
      ],
      "metadata": {
        "cellView": "form",
        "id": "woNICa9wLW79"
      },
      "execution_count": null,
      "outputs": []
    },
    {
      "cell_type": "markdown",
      "source": [
        "#Puedes comprobar tu progreso en la barra de arriba\n",
        "Cuando se ponga verde, ejecuta la siguiente celda"
      ],
      "metadata": {
        "id": "kgtY_GRULdA9"
      }
    },
    {
      "cell_type": "code",
      "source": [
        "#@title\n",
        "from IPython.display import YouTubeVideo\n",
        "video='5yHmAbqJGLI'\n",
        "if progreso.value==3 : \n",
        "  video='zu9W8AtZy7U'\n",
        "  print(\"Has terminado todo\");\n",
        "else: print(\"No has terminado!\")\n",
        "YouTubeVideo(video) "
      ],
      "metadata": {
        "cellView": "form",
        "id": "tY-FiyIRLjHM"
      },
      "execution_count": null,
      "outputs": []
    }
  ]
}